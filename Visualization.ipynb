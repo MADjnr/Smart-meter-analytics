{
 "cells": [
  {
   "cell_type": "code",
   "execution_count": 5,
   "metadata": {
    "collapsed": true
   },
   "outputs": [],
   "source": [
    "import matplotlib.pyplot as plt\n",
    "import numpy as np\n",
    "\n"
   ]
  },
  {
   "cell_type": "code",
   "execution_count": 15,
   "outputs": [
    {
     "data": {
      "text/plain": "<Figure size 432x288 with 1 Axes>",
      "image/png": "[encoded data removed]"
     },
     "metadata": {},
     "output_type": "display_data"
    },
    {
     "name": "stdout",
     "output_type": "stream",
     "text": [
      "[[ 1. -1.  1. -1.  1. -1.  1. -1.  1. -1.]\n",
      " [-1.  1. -1.  1. -1.  1. -1.  1. -1.  1.]\n",
      " [ 1. -1.  1. -1.  1. -1.  1. -1.  1. -1.]\n",
      " [-1.  1. -1.  1. -1.  1. -1.  1. -1.  1.]\n",
      " [ 1. -1.  1. -1.  1. -1.  1. -1.  1. -1.]\n",
      " [-1.  1. -1.  1. -1.  1. -1.  1. -1.  1.]\n",
      " [ 1. -1.  1. -1.  1. -1.  1. -1.  1. -1.]\n",
      " [-1.  1. -1.  1. -1.  1. -1.  1. -1.  1.]\n",
      " [ 1. -1.  1. -1.  1. -1.  1. -1.  1. -1.]\n",
      " [-1.  1. -1.  1. -1.  1. -1.  1. -1.  1.]]\n"
     ]
    }
   ],
   "source": [
    "N= 10\n",
    "c = np.zeros((N,N))\n",
    "for i in range (0, N):\n",
    "    for j in range(0, N):\n",
    "        c[i,j] = (-1)**(i + j)\n",
    "\n",
    "\n",
    "plt.imshow(c)\n",
    "plt.set_cmap('gray')\n",
    "plt.tick_params(labelleft=False, labelbottom=False)\n",
    "plt.show()\n",
    "print(c)"
   ],
   "metadata": {
    "collapsed": false,
    "pycharm": {
     "name": "#%%\n"
    }
   }
  },
  {
   "cell_type": "code",
   "execution_count": null,
   "outputs": [],
   "source": [],
   "metadata": {
    "collapsed": false,
    "pycharm": {
     "name": "#%%\n"
    }
   }
  }
 ],
 "metadata": {
  "kernelspec": {
   "display_name": "Python 3",
   "language": "python",
   "name": "python3"
  },
  "language_info": {
   "codemirror_mode": {
    "name": "ipython",
    "version": 2
   },
   "file_extension": ".py",
   "mimetype": "text/x-python",
   "name": "python",
   "nbconvert_exporter": "python",
   "pygments_lexer": "ipython2",
   "version": "2.7.6"
  }
 },
 "nbformat": 4,
 "nbformat_minor": 0
}